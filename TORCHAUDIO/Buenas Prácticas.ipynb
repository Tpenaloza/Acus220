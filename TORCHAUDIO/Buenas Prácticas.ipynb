{
 "cells": [
  {
   "cell_type": "markdown",
   "id": "5f7955d8",
   "metadata": {},
   "source": [
    "# Introducción\n",
    "\n",
    "    Dentro del campo cientifíco existe un malgasto de tiempo gigante construyendo y usando un software, la mayoría de estos relacionados a la productividad y fiabilidad de sus softwares. Esto se debe a las malas prácticas que ejerecen estos mismos dentro de sus estudios computacionales. Por lo mismo se crearon las siguientes buenas prácticas las cuales buscan optimizar el proceso de creación o construcción de softwares o algoritmos garantizando una mayor eficiencia, un desarrollo libre de errores y salvar a los autores de perder tiempo y esfuerzo en sus trabajos.\n",
    "\n"
   ]
  },
  {
   "cell_type": "markdown",
   "id": "0ae2359f",
   "metadata": {},
   "source": [
    "## 1.- Escribir Programas para personas, no para computadores.\n",
    "\n",
    "Se ordenado a la hora de escribir tu software. Si tu software se ejecuta correctamente pero es un embrollo leerlo o entenderlo  para otras personas (o para tu yo del futuro) lo mejor sería que reescribas tu script de forma que pueda ser más entendible para los demás y para ti; de esta forma tendrás un trabajo más limpio y fácil de entender.\n",
    "\n",
    "\n",
    "* El programa no debería exigir a sus lectores tener en mente todos sus argumentos a la vez: Hacer funciones fáciles de leer, que no haya que memorizar nada que sea difícil de decifrar dentro del script. \n",
    "\n",
    "\n",
    "* Crear nombres consistentes, distintivos y significativo: A la hora de crear nombres para variables que sean relacionados a su función. (Ej: Crear una función que retorne la hipotenusa y ponerle de nombre \"Hipotenusa\")\n",
    "\n",
    "\n",
    "* Utilizar un estilo y formato de código consistente: Si, por ejemplo, un paper tiene un formato diferente al utilizado comunmente, hará más difícil la lectura del mismo. Esto se puede aplicar también en nombres de variables, es decir, que nombren a una variable de dos formas genera confusión en el lector o en el mismo equipo generando errores entre ellos."
   ]
  },
  {
   "cell_type": "markdown",
   "id": "51d6c40e",
   "metadata": {},
   "source": [
    "## 2.- Hacer que el computador haga el trabajo.\n",
    "\n",
    "La ciencia a menudo pide que repitamos tareas o trabajos que hemos hecho con anterioridad. Ante esta problemática lo mejor que se puede hacer es reutilizar nuestros trabajos anteriores ya que, si volvemos a crear o hacer los mismos procesos anteriores, podríamos generar errores dentro de nuestro trabajo.\n",
    "\n",
    "* Hacer que la computadora repita las tareas: Utilizar comandos anteriores para el uso de tareas nuevas que lo requieran; no es necesario reinventar la rueda. Este punto se complementa mejor con el siguiente.\n",
    "\n",
    "\n",
    "* Guardar los comandos recientes en una carpeta de re-uso: Guardar tus comandos o scripts para futuras sesiones de trabajo. Existen muchas maneras para guardar estos comandos, existen herramientas que tienen un historial para que el usuario pueda volver a ejecutar estas líneas.\n",
    "\n",
    "\n",
    "* Utiliza una \"build tool\" para automatizar el flujo de trabajo: Para evitar errores e ineficiencias por repetir comandos manualente, se recomienda usar una herramienta que automatice esto.\n"
   ]
  },
  {
   "cell_type": "markdown",
   "id": "633a69e5",
   "metadata": {},
   "source": [
    "## 3.- Hacer cambios incrementales.\n",
    "\n",
    "Siempre tener en cuenta ir paso a paso, de esta forma se tendrá de manera más organizada nuestro trabajo; teniendo así una idea de cómo ir avanzando en el mismo.\n",
    "\n",
    "\n",
    "* Trabaja en pasos pequeños con un feedback frecuente y correción del rumbo que toma tu trabajo: El trabajo llega a ser más productivo siguiendo esta recomendación. Organizarte por mes o años no es muy recomendado, sino que hazlo por periodos de una hora. \n",
    "\n",
    "\n",
    "* Usar un sistema de control de versiones: Programadores les puede afectar fuertemente en el desarrollo de algún trabajo debido a que si guardan un trabajo desde 0 ,o con una versión distinta a la de sus colegas, podrían borrar el avance de algunos de sus compañeros, por lo tanto ir guardando su trabajo desde alguna especie de nube es lo más recomendado en estos casos. En estos casos lo mejor es utilizar un VCS para trabajar simultaneamente (como git con github :D).\n",
    "\n",
    "\n",
    "* Pon todo lo que has creado manualmente en el controlador de versiones: Pon todos tus avances manualmente en tu VCS; programas, observaciones y fuente de archivos de tus trabajos.\n"
   ]
  },
  {
   "cell_type": "markdown",
   "id": "3c6a0817",
   "metadata": {},
   "source": [
    "## 4.-No te repitas (o a otros).\n",
    "\n",
    "Muchas veces se suele repetir mensajes, códigos o escritos en diferentes partes de nuestro trabajo, por lo tanto se hace una respectiva correción lo cual nos quita tiempo dentro de nuestro margen de trabajo.\n",
    "\n",
    "\n",
    "* Cada pieza de data tiene que tener una representación autoritaria única en el sistema: Cada dato, variable, localización u objeto debe tener un nombre o una representación única la cuál pueda facilitar la localización de nuestros datos.\n",
    "\n",
    "\n",
    "* Modularizar el codigo en vez de copiar y pegar: En vez de copiar y pegar, ordena tu código base para tener en cuenta que elementos funcionan independientemente o cuáles no son tan necesarios para el script.\n",
    "\n",
    "\n",
    "* Reutiliza códigos en vez de reescribirlos: No es necesario volver a reescribir algo hecho por ti mismo si puedes reutilizar un código o, en su defecto, buscar en internet algún código que satisfaga tu necesidad.\n",
    "\n"
   ]
  },
  {
   "cell_type": "markdown",
   "id": "a7b9ca36",
   "metadata": {},
   "source": [
    "## 5.-Un plan para los errores.\n",
    "\n",
    "Los errores son inevitables, por lo tanto verificar si el código funciona en cada avance es hasta cansador. Por lo mismo existen prácticas que en combinación apoyan mucho a la prevención de estos errores.\n",
    "\n",
    "* Añade afirmaciones a tu programa para checar su funcionamiento: Añadir algo a nuestro código que, a la vista, podamos notar que este funciona correctamente (una especie de ticket que de luz verde de que nuestro código funciona correctamente y que es consitente y etc). Si es posible dejar un mensaje en este mismo explicando el comportamiento del código y cómo funciona para futuras modificaciones o para identificar futuros errores.\n",
    "\n",
    "\n",
    "* Utilizar una librería de testeo: Testear los códigos es importante para prevenir errores, por lo mismo se ejecutan estos 3 pasos. (1) Probar nuestro código como unidad; si funciona correctamente => (2) Probar el código en combinación con otros; si funciona en convivencia con los demás es posible seguir con el siguiente paso => (3) Montar el código en nuestro trabajo y si llega a funcionar, ¡felicidades!.\n",
    "\n",
    "\n",
    "* Transforma bugs en casos de prueba: Haciendo esto, una vez arreglado el bug o error, podremos prevenir futuros errores dentro de nuestro script.\n",
    "\n",
    "\n",
    "* Usa un debugger simbólico: Esta es una herramienta que nos ayuda a encontrar el error dentro de nuestras líneas de código.\n"
   ]
  },
  {
   "cell_type": "markdown",
   "id": "deb6d396",
   "metadata": {},
   "source": [
    "## 6.-Optimiza el software solamente si trabaja correctamente.\n",
    "\n",
    "Los software son complejos incluso para los expertos es difícil de predecir fallos dentro del mismo o bajo rendimiento en ellos.\n",
    "\n",
    "* Usar un pefilador para identificar bottlenecks: De esta forma nos aseguramos de que escribamos solamente lo necesario para que nuestro software corra correctamente y de manera eficiente.\n",
    "\n",
    "\n",
    "* Escribir el código en el más alto nivel de lenguaje posible: Al utilizar de bajo nivel uno termina utilizando más líneas al ejecutar nuestro programa; sin embargo al utilizar de alto nivel no solamente tendríamos menos sino que también ayuda a la comprensibilidad de nuestro código). "
   ]
  },
  {
   "cell_type": "markdown",
   "id": "1b9f28ee",
   "metadata": {},
   "source": [
    "## 7.- Diseño y propósito del documento, no mecánica.\n",
    "\n",
    "Un código bien diseñado con un prótocolo bien documentado ayuda a la gente a entender el código. Esto hace que el código sea reusable y además sea más fácil de mantener por si hay que modificar el código.\n",
    "\n",
    "* Interfaces y razones en el documento, no implementaciones: Descripciones y documentación son importantes para el entendimiento del mismo. Con descripciones breves y claras bastan para este tip.\n",
    "\n",
    "\n",
    "* Reorganiza el codigo en vez de explicar cómo funciona: Es mejor reorganizar el código para no tener que escribir tanto a la hora de explicar.\n",
    "\n",
    "\n",
    "* Integrar la documentación por pieza del sofware en ese sofware: Esto aumenta las probabilidades de que los programadores, al cambiar su código, actulicen la documentación al mismo tiempo. \n"
   ]
  },
  {
   "cell_type": "markdown",
   "id": "eeba5bcd",
   "metadata": {},
   "source": [
    "## 8.- Colabora.\n",
    "\n",
    "Utilizar manuscritos calificados por otros científicos es una gran ayuda a la hora de mejorar la productividad de nuestro trabajo, esto en términos generales. Esto es importante también ya que la colaboración con nuestros compañeros y su feedback es muy necesario para nuestro trabajo.\n",
    "\n",
    "* Utiliza reviews de códigos pre-unidos: Revisa las reviews de tus códigos. Si existe un feedback a tu código quizá significa que no está bien del todo y podrías mejorar tu trabajo.\n",
    "\n",
    "* Usa un programación de emparejamiento cuando alguien brinde una mejora y cuando haya que abordar problemas engañosos: La programación de emparejamiento consiste en dos desarrolladores trabajen juntos a la hora de escribir un código; uno se encarga de escribir el código (el conductor) y el otro se encarga de dar feedback en tiempo real y es libre de aportar o identificar problemas grandes para el diseño y consistencia del código.\n",
    "\n",
    "* Utiliza una herramienta que identifique problemas: Ya siendo el equipo más grande, es difícil identii\n",
    "\n",
    "Once a team grows beyond a certain size, it becomes difficult to keep track of what needs to be reviewed, or of who's doing what. Teams can avoid a lot of duplicated effort and dropped balls if they use an issue tracking tool (8c) to maintain a list of tasks to be performed and bugs to be fixed [68]. This helps avoid duplicated work and makes it easier for tasks to be transferred to different people. Free repository hosting services like GitHub include issue tracking tools, and many good standalone tools exist as well, such as Trac (http://trac.edgewall.org)."
   ]
  },
  {
   "cell_type": "markdown",
   "id": "52632504",
   "metadata": {},
   "source": [
    "# Conclusión.\n",
    "\n"
   ]
  },
  {
   "cell_type": "markdown",
   "id": "ee6240a4",
   "metadata": {},
   "source": [
    "# Bibliografía."
   ]
  },
  {
   "cell_type": "markdown",
   "id": "4b93c880",
   "metadata": {},
   "source": [
    "Obtenido del trabajo de diferentes profesionales publicado en: https://www.ncbi.nlm.nih.gov/pmc/articles/PMC3886731/"
   ]
  }
 ],
 "metadata": {
  "kernelspec": {
   "display_name": "acus220",
   "language": "python",
   "name": "acus220"
  },
  "language_info": {
   "codemirror_mode": {
    "name": "ipython",
    "version": 3
   },
   "file_extension": ".py",
   "mimetype": "text/x-python",
   "name": "python",
   "nbconvert_exporter": "python",
   "pygments_lexer": "ipython3",
   "version": "3.8.10"
  }
 },
 "nbformat": 4,
 "nbformat_minor": 5
}
